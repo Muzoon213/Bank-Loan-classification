{
 "cells": [
  {
   "cell_type": "markdown",
   "id": "42ac6e55",
   "metadata": {},
   "source": [
    "# Bank Loan Term Prediction\n",
    "---"
   ]
  },
  {
   "cell_type": "markdown",
   "id": "22e64dde",
   "metadata": {},
   "source": [
    "## Import packages & read data."
   ]
  },
  {
   "cell_type": "code",
   "execution_count": null,
   "id": "52e30225",
   "metadata": {},
   "outputs": [],
   "source": [
    "import numpy as np\n",
    "import pandas as pd\n",
    "\n",
    "import warnings\n",
    "warnings.filterwarnings('ignore')\n",
    "\n",
    "# Visualization imports\n",
    "import seaborn as sns\n",
    "import matplotlib.pyplot as plt\n",
    "%matplotlib inline\n",
    "# %config InlineBackend.figure_format = 'svg'\n",
    "\n",
    "# Modeling imports\n",
    "from sklearn.preprocessing import StandardScaler\n",
    "from sklearn.model_selection import train_test_split, KFold, GridSearchCV\n",
    "from sklearn.neighbors import KNeighborsClassifier\n",
    "from sklearn.metrics import f1_score, roc_auc_score,log_loss, confusion_matrix, precision_score, recall_score, accuracy_score \n",
    "from sklearn import linear_model, ensemble , tree \n",
    "from sklearn.tree import DecisionTreeClassifier\n",
    "from sklearn.ensemble import RandomForestClassifier , VotingClassifier\n",
    "from sklearn.linear_model import LogisticRegression\n",
    "import imblearn.over_sampling\n",
    "from sklearn.svm import SVC  \n",
    "from sklearn.utils import class_weight\n",
    "from sklearn.model_selection import cross_val_score\n",
    "import statsmodels.api as sm\n",
    "from sklearn.pipeline import Pipeline, make_pipeline\n",
    "from imblearn.over_sampling import SMOTE\n",
    "from imblearn.pipeline import Pipeline, make_pipeline \n",
    "from sklearn.metrics import precision_recall_curve\n",
    "from sklearn.ensemble import BaggingClassifier\n",
    "from sklearn.ensemble import ExtraTreesClassifier\n",
    "from mlxtend.classifier import StackingClassifier\n",
    "from sklearn.ensemble import AdaBoostClassifier\n",
    "from sklearn.ensemble import GradientBoostingRegressor\n",
    "import xgboost"
   ]
  },
  {
   "cell_type": "code",
   "execution_count": null,
   "id": "548afb9c",
   "metadata": {},
   "outputs": [],
   "source": [
    "df = pd.read_csv('credit_train.csv')\n",
    "df"
   ]
  },
  {
   "cell_type": "code",
   "execution_count": null,
   "id": "02838587",
   "metadata": {
    "scrolled": true
   },
   "outputs": [],
   "source": [
    "df.shape"
   ]
  },
  {
   "cell_type": "code",
   "execution_count": null,
   "id": "abad9abb",
   "metadata": {
    "scrolled": false
   },
   "outputs": [],
   "source": [
    "df.tail()"
   ]
  },
  {
   "cell_type": "code",
   "execution_count": null,
   "id": "b315b34d",
   "metadata": {},
   "outputs": [],
   "source": [
    "df.isna().sum()"
   ]
  },
  {
   "cell_type": "code",
   "execution_count": null,
   "id": "b4e66660",
   "metadata": {
    "scrolled": false
   },
   "outputs": [],
   "source": [
    "df.info() "
   ]
  },
  {
   "cell_type": "code",
   "execution_count": null,
   "id": "81466da1",
   "metadata": {},
   "outputs": [],
   "source": [
    "duplicate = df.duplicated()\n",
    "print(f'Duplicate in df :', duplicate.sum())"
   ]
  },
  {
   "cell_type": "markdown",
   "id": "b4831b23",
   "metadata": {},
   "source": [
    "**Rename columns for easer code writing**"
   ]
  },
  {
   "cell_type": "code",
   "execution_count": null,
   "id": "c08d0ced",
   "metadata": {},
   "outputs": [],
   "source": [
    "df.columns"
   ]
  },
  {
   "cell_type": "code",
   "execution_count": null,
   "id": "b9a00d87",
   "metadata": {},
   "outputs": [],
   "source": [
    "df.columns = df.columns.str.replace(' ','_')"
   ]
  },
  {
   "cell_type": "code",
   "execution_count": null,
   "id": "79b335ad",
   "metadata": {},
   "outputs": [],
   "source": [
    "df.columns"
   ]
  },
  {
   "cell_type": "markdown",
   "id": "e1a2f5de",
   "metadata": {},
   "source": [
    "## Split the data for train, validation and test"
   ]
  },
  {
   "cell_type": "code",
   "execution_count": null,
   "id": "1263b5f7",
   "metadata": {},
   "outputs": [],
   "source": [
    "# X = df.drop(columns='Term')\n",
    "# y = pd.DataFrame(df['Term'])\n",
    "\n",
    "# cross val\n",
    "df_train, df_test  = train_test_split(df, test_size=0.2, random_state=42)\n",
    "\n",
    "# # split the data for train and test\n",
    "# df_Train, df_test = train_test_split(df, test_size = 0.2, random_state = 30 )\n",
    "\n",
    "# # split the train for train and val\n",
    "# df_train, df_val = train_test_split(df_Train, test_size = 0.2, random_state = 30 )"
   ]
  },
  {
   "cell_type": "code",
   "execution_count": null,
   "id": "cf0a3420",
   "metadata": {
    "scrolled": true
   },
   "outputs": [],
   "source": [
    "print(f'Shape of train:', df_train.shape)\n",
    "# print(f'Shape of validation:', df_val.shape)\n",
    "print(f'Shape of test:', df_test.shape)"
   ]
  },
  {
   "cell_type": "markdown",
   "id": "900f1415",
   "metadata": {},
   "source": [
    "## Data Pre-processing"
   ]
  },
  {
   "cell_type": "markdown",
   "id": "40672dbf",
   "metadata": {},
   "source": [
    "### Cleaning data"
   ]
  },
  {
   "cell_type": "code",
   "execution_count": null,
   "id": "32565406",
   "metadata": {},
   "outputs": [],
   "source": [
    "# reset index for train\n",
    "df_train = df_train.reset_index(drop=True)\n",
    "\n",
    "# # reset index for val\n",
    "# df_val = df_val.reset_index(drop=True)\n",
    "\n",
    "# reset index for val\n",
    "df_test = df_test.reset_index(drop=True)"
   ]
  },
  {
   "cell_type": "code",
   "execution_count": null,
   "id": "68b3f04d",
   "metadata": {},
   "outputs": [],
   "source": [
    "# dope nulls in Loan_ID\n",
    "\n",
    "# for train\n",
    "df_train = df_train.dropna(subset = ['Loan_ID'])\n",
    "\n",
    "# # for val\n",
    "# df_val = df_val.dropna(subset = ['Loan_ID'])\n",
    "\n",
    "# for test\n",
    "df_test = df_test.dropna(subset = ['Loan_ID'])"
   ]
  },
  {
   "cell_type": "code",
   "execution_count": null,
   "id": "87f9e426",
   "metadata": {},
   "outputs": [],
   "source": [
    "print(f'Shape of train:', df_train.shape)\n",
    "# print(f'Shape of validation:', df_val.shape)\n",
    "print(f'Shape of test:', df_test.shape)"
   ]
  },
  {
   "cell_type": "code",
   "execution_count": null,
   "id": "b9956dc1",
   "metadata": {},
   "outputs": [],
   "source": [
    "df_train.sample(20)"
   ]
  },
  {
   "cell_type": "code",
   "execution_count": null,
   "id": "5aad54d0",
   "metadata": {},
   "outputs": [],
   "source": [
    "df_train.info()"
   ]
  },
  {
   "cell_type": "code",
   "execution_count": null,
   "id": "020d0d1e",
   "metadata": {
    "scrolled": true
   },
   "outputs": [],
   "source": [
    "df_train.isna().sum()"
   ]
  },
  {
   "cell_type": "code",
   "execution_count": null,
   "id": "0307405a",
   "metadata": {},
   "outputs": [],
   "source": [
    "# check for dublicate\n",
    "\n",
    "# for train\n",
    "duplicate = df_train.duplicated()\n",
    "print(f'Duplicate in train :', duplicate.sum())\n",
    "\n",
    "# # for val\n",
    "# duplicate = df_val.duplicated()\n",
    "# print(f'Duplicate in validation :', duplicate.sum())\n",
    "\n",
    "# for test\n",
    "duplicate = df_test.duplicated()\n",
    "print(f'Duplicate in test :', duplicate.sum())\n",
    "print(f'Shape of train:', df_train.shape)\n",
    "# print(f'Shape of validation:', df_val.shape)\n",
    "print(f'Shape of test:', df_test.shape)"
   ]
  },
  {
   "cell_type": "code",
   "execution_count": null,
   "id": "4781f29d",
   "metadata": {},
   "outputs": [],
   "source": [
    "# drop duplicates rows\n",
    "# train\n",
    "df_train.drop_duplicates(inplace=True)\n",
    "\n",
    "# val\n",
    "# df_val.drop_duplicates(inplace=True)\n",
    "\n",
    "# test\n",
    "df_test.drop_duplicates(inplace=True)"
   ]
  },
  {
   "cell_type": "code",
   "execution_count": null,
   "id": "48e9fb23",
   "metadata": {},
   "outputs": [],
   "source": [
    "# check for dublicate\n",
    "\n",
    "# for train\n",
    "duplicate = df_train.duplicated()\n",
    "print(f'Duplicate in train :', duplicate.sum())\n",
    "\n",
    "# # for val\n",
    "# duplicate = df_val.duplicated()\n",
    "# print(f'Duplicate in validation :', duplicate.sum())\n",
    "\n",
    "# for test\n",
    "duplicate = df_test.duplicated()\n",
    "print(f'Duplicate in test :', duplicate.sum())\n",
    "print(f'Shape of train:', df_train.shape)\n",
    "# print(f'Shape of validation:', df_val.shape)\n",
    "print(f'Shape of test:', df_test.shape)"
   ]
  },
  {
   "cell_type": "markdown",
   "id": "8c2032e3",
   "metadata": {},
   "source": [
    "**Duplicate in Loan ID**"
   ]
  },
  {
   "cell_type": "code",
   "execution_count": null,
   "id": "46b125a0",
   "metadata": {
    "scrolled": true
   },
   "outputs": [],
   "source": [
    "df_train['Loan_ID'].value_counts().sort_values(ascending=False)"
   ]
  },
  {
   "cell_type": "code",
   "execution_count": null,
   "id": "f7354fe1",
   "metadata": {
    "scrolled": false
   },
   "outputs": [],
   "source": [
    "df_train[df_train.Loan_ID.duplicated()]"
   ]
  },
  {
   "cell_type": "code",
   "execution_count": null,
   "id": "5a601542",
   "metadata": {
    "scrolled": true
   },
   "outputs": [],
   "source": [
    "df_train[df_train['Loan_ID'] == '7830a00a-20c4-4480-9cf0-fe2f86b5266b']"
   ]
  },
  {
   "cell_type": "code",
   "execution_count": null,
   "id": "d04f61fb",
   "metadata": {
    "scrolled": true
   },
   "outputs": [],
   "source": [
    "df_train[df_train['Loan_ID'] == '5a90cbe3-8fee-4582-8823-1f31546dec6e']"
   ]
  },
  {
   "cell_type": "markdown",
   "id": "34131259",
   "metadata": {},
   "source": [
    "We can see an error in data entry. There is a duplicate in loan ID but the difference in current loan amount or null values,\n",
    "\n",
    "**Now we fix it.**"
   ]
  },
  {
   "cell_type": "code",
   "execution_count": null,
   "id": "0e7ca686",
   "metadata": {},
   "outputs": [],
   "source": [
    "df_train[(df_train.Loan_ID.duplicated() & (df_train['Current_Loan_Amount'] == 99999999.0))]"
   ]
  },
  {
   "cell_type": "code",
   "execution_count": null,
   "id": "966756ac",
   "metadata": {},
   "outputs": [],
   "source": [
    "# drop duplicate in Loan_ID and Current_Loan_Amount = 99999999.0\n",
    "\n",
    "# for train\n",
    "df_train = df_train[~(df_train.Loan_ID.duplicated() & (df_train['Current_Loan_Amount'] == 99999999.0))]\n",
    "\n",
    "# for val\n",
    "# df_val = df_val[~(df_val.Loan_ID.duplicated() & (df_val['Current_Loan_Amount'] == 99999999.0))]\n",
    "\n",
    "# for test\n",
    "df_test = df_test[~(df_test.Loan_ID.duplicated() & (df_test['Current_Loan_Amount'] == 99999999.0))]"
   ]
  },
  {
   "cell_type": "code",
   "execution_count": null,
   "id": "b286d93a",
   "metadata": {},
   "outputs": [],
   "source": [
    "df_train[(df_train.Loan_ID.duplicated())]"
   ]
  },
  {
   "cell_type": "code",
   "execution_count": null,
   "id": "d7ccf9cc",
   "metadata": {
    "scrolled": true
   },
   "outputs": [],
   "source": [
    "df_train[df_train['Loan_ID'] == 'ff486b10-f97d-4dff-bb98-436ef48d8ab1']"
   ]
  },
  {
   "cell_type": "code",
   "execution_count": null,
   "id": "e6ee1aef",
   "metadata": {},
   "outputs": [],
   "source": [
    "# dope nulls in Loan_Status\n",
    "\n",
    "# for train\n",
    "df_train = df_train.dropna(subset = ['Annual_Income'])\n",
    "\n",
    "# # for val\n",
    "# df_val = df_val.dropna(subset = ['Annual_Income'])\n",
    "\n",
    "# for test\n",
    "df_test = df_test.dropna(subset = ['Annual_Income'])"
   ]
  },
  {
   "cell_type": "code",
   "execution_count": null,
   "id": "85ca00a1",
   "metadata": {},
   "outputs": [],
   "source": [
    "df_train[df_train['Loan_ID'] == 'ff486b10-f97d-4dff-bb98-436ef48d8ab1']"
   ]
  },
  {
   "cell_type": "code",
   "execution_count": null,
   "id": "ab072bd8",
   "metadata": {
    "scrolled": true
   },
   "outputs": [],
   "source": [
    "#df_train\n",
    "df_train.Purpose.unique()\n",
    "# #df_val\n",
    "# df_val.Purpose.unique()\n",
    "#da_test\n",
    "df_test.Purpose.unique()"
   ]
  },
  {
   "cell_type": "code",
   "execution_count": null,
   "id": "fca149f9",
   "metadata": {},
   "outputs": [],
   "source": [
    "df_train.Purpose.value_counts()"
   ]
  },
  {
   "cell_type": "code",
   "execution_count": null,
   "id": "f1a22d3b",
   "metadata": {},
   "outputs": [],
   "source": [
    "#df_train\n",
    "df_train.Purpose = df_train.Purpose.str.replace('other','Other')\n",
    "# #df_val\n",
    "# df_val.Purpose = df_val.Purpose.str.replace('other','Other')\n",
    "#df_test\n",
    "df_test.Purpose = df_test.Purpose.str.replace('other','Other')"
   ]
  },
  {
   "cell_type": "code",
   "execution_count": null,
   "id": "115f8232",
   "metadata": {},
   "outputs": [],
   "source": [
    "df_train.Purpose.value_counts()"
   ]
  },
  {
   "cell_type": "code",
   "execution_count": null,
   "id": "16d16c3c",
   "metadata": {
    "scrolled": true
   },
   "outputs": [],
   "source": [
    "df_train.Purpose.unique()"
   ]
  },
  {
   "cell_type": "code",
   "execution_count": null,
   "id": "586bdeb6",
   "metadata": {},
   "outputs": [],
   "source": [
    "df_train.isnull().sum() # train"
   ]
  },
  {
   "cell_type": "code",
   "execution_count": null,
   "id": "31ae74bd",
   "metadata": {},
   "outputs": [],
   "source": [
    "# dope duplicated in Loan_ID\n",
    "\n",
    "# for train\n",
    "df_train = df_train.drop_duplicates(subset = ['Loan_ID'])\n",
    "\n",
    "# # for val\n",
    "# df_val = df_val.drop_duplicates(subset = ['Loan_ID'])\n",
    "\n",
    "# for test\n",
    "df_test = df_test.drop_duplicates(subset = ['Loan_ID'])"
   ]
  },
  {
   "cell_type": "code",
   "execution_count": null,
   "id": "34680422",
   "metadata": {
    "scrolled": false
   },
   "outputs": [],
   "source": [
    "df_train.isnull().sum() # train"
   ]
  },
  {
   "cell_type": "code",
   "execution_count": null,
   "id": "7baacae6",
   "metadata": {},
   "outputs": [],
   "source": [
    "print(f'Shape of train:', df_train.shape)\n",
    "# print(f'Shape of validation:', df_val.shape)\n",
    "print(f'Shape of test:', df_test.shape)"
   ]
  },
  {
   "cell_type": "code",
   "execution_count": null,
   "id": "bca30e9b",
   "metadata": {},
   "outputs": [],
   "source": [
    "plt.figure(figsize=(10,5))\n",
    "sns.countplot(df_train['Years_in_current_job'], palette='pink_r');"
   ]
  },
  {
   "cell_type": "code",
   "execution_count": null,
   "id": "86fdd60b",
   "metadata": {},
   "outputs": [],
   "source": [
    "# fill nulls in Years_in_current_job \n",
    "\n",
    "# for train\n",
    "df_train['Years_in_current_job'] = df_train['Years_in_current_job'].fillna('10+ years')\n",
    "\n",
    "# # for val\n",
    "# df_val['Years_in_current_job'] = df_val['Years_in_current_job'].fillna('10+ years')\n",
    "\n",
    "# for test\n",
    "df_test['Years_in_current_job'] = df_test['Years_in_current_job'].fillna('10+ years')"
   ]
  },
  {
   "cell_type": "code",
   "execution_count": null,
   "id": "eafacb5b",
   "metadata": {},
   "outputs": [],
   "source": [
    "# drop Months_since_last_delinquent bc the null > 50&\n",
    "\n",
    "# train\n",
    "df_train = df_train.drop(columns='Months_since_last_delinquent')\n",
    "\n",
    "# test\n",
    "df_test = df_test.drop(columns='Months_since_last_delinquent')"
   ]
  },
  {
   "cell_type": "code",
   "execution_count": null,
   "id": "57558d17",
   "metadata": {
    "scrolled": true
   },
   "outputs": [],
   "source": [
    "df_train.isnull().sum()"
   ]
  },
  {
   "cell_type": "code",
   "execution_count": null,
   "id": "ca259809",
   "metadata": {},
   "outputs": [],
   "source": [
    "# drop nulls \n",
    "\n",
    "# for train\n",
    "df_train = df_train.dropna()\n",
    "\n",
    "# # for val\n",
    "# df_val = df_val.dropna()\n",
    "\n",
    "# for test\n",
    "df_test = df_test.dropna()"
   ]
  },
  {
   "cell_type": "code",
   "execution_count": null,
   "id": "40e75eaf",
   "metadata": {
    "scrolled": true
   },
   "outputs": [],
   "source": [
    "df_train.isnull().sum()"
   ]
  },
  {
   "cell_type": "code",
   "execution_count": null,
   "id": "1f900124",
   "metadata": {
    "scrolled": true
   },
   "outputs": [],
   "source": [
    "df_train.duplicated().sum()"
   ]
  },
  {
   "cell_type": "markdown",
   "id": "1a1a4b31",
   "metadata": {},
   "source": [
    "## Feature Engneering\n",
    "---"
   ]
  },
  {
   "cell_type": "code",
   "execution_count": null,
   "id": "e9d4a3f9",
   "metadata": {},
   "outputs": [],
   "source": [
    "df_train.isnull().sum()"
   ]
  },
  {
   "cell_type": "code",
   "execution_count": null,
   "id": "bd0c4245",
   "metadata": {
    "scrolled": false
   },
   "outputs": [],
   "source": [
    "df_train.info()"
   ]
  },
  {
   "cell_type": "markdown",
   "id": "db540e38",
   "metadata": {},
   "source": [
    "### Get Dummies"
   ]
  },
  {
   "cell_type": "code",
   "execution_count": null,
   "id": "17a22613",
   "metadata": {},
   "outputs": [],
   "source": [
    "# train\n",
    "bank_lone_train = pd.get_dummies(df_train, columns =['Term','Home_Ownership','Purpose','Loan_Status', 'Years_in_current_job'], drop_first=True) ###\n",
    "\n",
    "# # val\n",
    "# bank_lone_val = pd.get_dummies(df_val, columns =['Term','Home_Ownership','Purpose','Loan_Status', 'Years_in_current_job'], drop_first=True) ###\n",
    "\n",
    "# test\n",
    "bank_lone_test = pd.get_dummies(df_test, columns =['Term','Home_Ownership','Purpose','Loan_Status' , 'Years_in_current_job'], drop_first=True) ###"
   ]
  },
  {
   "cell_type": "code",
   "execution_count": null,
   "id": "e7b31d8d",
   "metadata": {
    "scrolled": false
   },
   "outputs": [],
   "source": [
    "bank_lone_train.columns"
   ]
  },
  {
   "cell_type": "code",
   "execution_count": null,
   "id": "56a045da",
   "metadata": {},
   "outputs": [],
   "source": [
    "df_train.corr()"
   ]
  },
  {
   "cell_type": "code",
   "execution_count": null,
   "id": "5bf9c64f",
   "metadata": {
    "scrolled": false
   },
   "outputs": [],
   "source": [
    "plt.figure(figsize=(10,8))\n",
    "\n",
    "# corr\n",
    "data_corr = df_train.corr()\n",
    "# data_corr = bank_lone_train.corr()\n",
    "\n",
    "# mask\n",
    "mask = np.triu(np.ones_like(data_corr, dtype=np.bool))\n",
    "\n",
    "# adjust mask and df\n",
    "mask = mask[1:, :-1]\n",
    "corr = data_corr.iloc[1:,:-1].copy()\n",
    "\n",
    "sns.heatmap(corr, cmap = 'pink_r', annot = True, vmin= -1, vmax= 1, linewidths=1.5, fmt='.2f', mask=mask);\n",
    "plt.title('CORRELATION BETWEEN FEATURES\\n', loc='left', fontsize=18);\n",
    "# plt.savefig('plot13.png', dpi = 300, bbox_inches = 'tight');"
   ]
  },
  {
   "cell_type": "code",
   "execution_count": null,
   "id": "3b016ee0",
   "metadata": {},
   "outputs": [],
   "source": [
    "# sns.pairplot(bank_lone_train, hue = 'Term_Short Term', palette = 'pink_r');"
   ]
  },
  {
   "cell_type": "markdown",
   "id": "ad29da25",
   "metadata": {},
   "source": [
    "## Visualize data\n",
    "___"
   ]
  },
  {
   "cell_type": "code",
   "execution_count": null,
   "id": "298dac2d",
   "metadata": {},
   "outputs": [],
   "source": [
    "c = ['#724949','#cfa691', '#120f0f', '#a06868']\n",
    "plt.figure(figsize=(7,7))\n",
    "plt.pie(x = bank_lone_train['Term_Short Term'].value_counts(),\n",
    "        labels=['Short term','Long term'],autopct='%.2f%%',\n",
    "        textprops={'fontsize': 12},explode=[0,0.09], colors = ['#724949','#DEDCBB'])\n",
    "plt.title('Time Period of Taking Loan',fontdict={'fontsize':15});"
   ]
  },
  {
   "cell_type": "code",
   "execution_count": null,
   "id": "19dda5ac",
   "metadata": {},
   "outputs": [],
   "source": [
    "plt.figure(figsize=(10,9))\n",
    "sns.countplot(y='Purpose' , data=df_train, order = df_train['Purpose'].value_counts().index,\n",
    "              hue='Term', palette = 'pink_r')\n",
    "plt.title('Purpose of taking Loan' , fontdict={'fontsize':20})\n",
    "plt.legend(title=\"Loan type\", loc=\"lower right\");"
   ]
  },
  {
   "cell_type": "code",
   "execution_count": null,
   "id": "01d34739",
   "metadata": {
    "scrolled": false
   },
   "outputs": [],
   "source": [
    "plt.figure(figsize=(10,8))\n",
    "sns.countplot(x='Home_Ownership',data=df_train ,order = df_train['Home_Ownership'].value_counts().index\n",
    "              ,hue='Term',  palette = 'pink_r')\n",
    "plt.title('Own Property vs Loan Status',fontdict={'fontsize':20})\n",
    "plt.legend(title=\"Loan type\", loc=\"upper right\", labels=[\"Short Term\",\"Long Term\"]);"
   ]
  },
  {
   "cell_type": "markdown",
   "id": "10bca8f5",
   "metadata": {},
   "source": [
    "### Droping outliers"
   ]
  },
  {
   "cell_type": "code",
   "execution_count": null,
   "id": "b9b6d0d6",
   "metadata": {},
   "outputs": [],
   "source": [
    "plt.figure(figsize = [15,20])\n",
    "plt.subplot(3,2,1)\n",
    "sns.boxplot(x='Term_Short Term',y='Current_Loan_Amount',\n",
    "            palette='pink_r', data=bank_lone_train.sort_values('Current_Loan_Amount',ascending=False));\n",
    "plt.title('Before dropping outliers',fontsize = 15 , c = 'r')\n",
    "\n",
    "bank_lone_train = bank_lone_train[bank_lone_train['Current_Loan_Amount'] != 99999999]\n",
    "bank_lone_train = bank_lone_train[((bank_lone_train['Current_Loan_Amount'] <= 600000 )\n",
    "                                   & (bank_lone_train['Term_Short Term']==1))\n",
    "                                  | (bank_lone_train['Term_Short Term']==0)]\n",
    "\n",
    "plt.subplot(3,2,2)\n",
    "sns.boxplot(x='Term_Short Term',y='Current_Loan_Amount',\n",
    "            palette='pink_r', data=bank_lone_train.sort_values('Current_Loan_Amount',ascending=False));\n",
    "plt.title('After dropping outliers',fontsize = 15 );"
   ]
  },
  {
   "cell_type": "code",
   "execution_count": null,
   "id": "84c290cf",
   "metadata": {},
   "outputs": [],
   "source": [
    "# bank_lone_val = bank_lone_val[bank_lone_val['Current_Loan_Amount'] != 99999999]\n",
    "# # bank_lone_val = bank_lone_val[((bank_lone_val['Current_Loan_Amount'] <= 600000 )\n",
    "#                                    & (bank_lone_val['Term_Short Term']==1))\n",
    "#                                   | (bank_lone_val['Term_Short Term']==0)]"
   ]
  },
  {
   "cell_type": "code",
   "execution_count": null,
   "id": "f82436a2",
   "metadata": {},
   "outputs": [],
   "source": [
    "bank_lone_test = bank_lone_test[bank_lone_test['Current_Loan_Amount'] != 99999999]\n",
    "bank_lone_test = bank_lone_test[((bank_lone_test['Current_Loan_Amount'] <= 600000 )\n",
    "                                   & (bank_lone_test['Term_Short Term']==1))\n",
    "                                  | (bank_lone_test['Term_Short Term']==0)]"
   ]
  },
  {
   "cell_type": "code",
   "execution_count": null,
   "id": "a0faf83d",
   "metadata": {},
   "outputs": [],
   "source": [
    "plt.figure(figsize = [15,20])\n",
    "plt.subplot(3,2,1)\n",
    "sns.boxplot(x='Term_Short Term',y='Credit_Score',\n",
    "            palette='pink_r', data = bank_lone_train.sort_values('Credit_Score',ascending=False));\n",
    "plt.title('Before dropping outliers',fontsize = 15 , c = 'r')\n",
    "\n",
    "bank_lone_train = bank_lone_train.loc[bank_lone_train['Credit_Score'] <= 1500,:]\n",
    "bank_lone_train = bank_lone_train.loc[bank_lone_train['Credit_Score'] >= 620 ,:]\n",
    "bank_lone_train = bank_lone_train[((bank_lone_train['Credit_Score'] >= 680 )\n",
    "                                   & (bank_lone_train['Term_Short Term']==1))| \n",
    "                                  (bank_lone_train['Term_Short Term']==0)]\n",
    "\n",
    "plt.subplot(3,2,2)\n",
    "sns.boxplot(x='Term_Short Term',y='Credit_Score',\n",
    "            palette='pink_r', data = bank_lone_train.sort_values('Credit_Score',ascending=False));\n",
    "plt.title('After dropping outliers',fontsize = 15 );"
   ]
  },
  {
   "cell_type": "code",
   "execution_count": null,
   "id": "02d43dbd",
   "metadata": {},
   "outputs": [],
   "source": [
    "# bank_lone_val = bank_lone_val.loc[bank_lone_val['Credit_Score'] <= 1500,:]\n",
    "# bank_lone_val = bank_lone_val.loc[bank_lone_val['Credit_Score'] >= 620 ,:]\n",
    "# bank_lone_val = bank_lone_val[((bank_lone_val['Credit_Score'] >= 680 )\n",
    "#                                    & (bank_lone_val['Term_Short Term']==1))| \n",
    "#                                   (bank_lone_val['Term_Short Term']==0)]"
   ]
  },
  {
   "cell_type": "code",
   "execution_count": null,
   "id": "301cee9c",
   "metadata": {},
   "outputs": [],
   "source": [
    "bank_lone_test = bank_lone_test.loc[bank_lone_test['Credit_Score'] <= 1500,:]\n",
    "bank_lone_test = bank_lone_test.loc[bank_lone_test['Credit_Score'] >= 620 ,:]\n",
    "bank_lone_test = bank_lone_test[((bank_lone_test['Credit_Score'] >= 680 )\n",
    "                                   & (bank_lone_test['Term_Short Term']==1))| \n",
    "                                  (bank_lone_test['Term_Short Term']==0)]"
   ]
  },
  {
   "cell_type": "code",
   "execution_count": null,
   "id": "28dd8d24",
   "metadata": {
    "scrolled": false
   },
   "outputs": [],
   "source": [
    "plt.figure(figsize = [15,20])\n",
    "plt.subplot(3,2,1)\n",
    "sns.boxplot(x='Term_Short Term',y='Annual_Income',\n",
    "            palette='pink_r', data = bank_lone_train.sort_values('Annual_Income',ascending=False));\n",
    "plt.title('Before dropping outliers',fontsize = 15 , c = 'r')\n",
    "\n",
    "bank_lone_train = bank_lone_train.loc[bank_lone_train['Annual_Income'] <= 2750000,:]\n",
    "bank_lone_train = bank_lone_train[((bank_lone_train['Annual_Income'] <= 2395000 )\n",
    "                                   & (bank_lone_train['Term_Short Term']==1))\n",
    "                                  | (bank_lone_train['Term_Short Term']==0)]\n",
    "\n",
    "plt.subplot(3,2,2)\n",
    "sns.boxplot(x='Term_Short Term',y='Annual_Income',\n",
    "            palette='pink_r', data = bank_lone_train.sort_values('Annual_Income',ascending=False));\n",
    "plt.title('After dropping outliers',fontsize = 15 );"
   ]
  },
  {
   "cell_type": "code",
   "execution_count": null,
   "id": "4cc77d57",
   "metadata": {},
   "outputs": [],
   "source": [
    "# bank_lone_val = bank_lone_val.loc[bank_lone_val['Annual_Income'] <= 2750000,:]\n",
    "# bank_lone_val = bank_lone_val[((bank_lone_val['Annual_Income'] <= 2395000 )\n",
    "#                                    & (bank_lone_val['Term_Short Term']==1))\n",
    "#                                   | (bank_lone_val['Term_Short Term']==0)]"
   ]
  },
  {
   "cell_type": "code",
   "execution_count": null,
   "id": "8f598fa2",
   "metadata": {},
   "outputs": [],
   "source": [
    "bank_lone_test = bank_lone_test.loc[bank_lone_test['Annual_Income'] <= 2750000,:]\n",
    "bank_lone_test = bank_lone_test[((bank_lone_test['Annual_Income'] <= 2395000 )\n",
    "                                   & (bank_lone_test['Term_Short Term']==1))\n",
    "                                  | (bank_lone_test['Term_Short Term']==0)]"
   ]
  },
  {
   "cell_type": "code",
   "execution_count": null,
   "id": "a82d0dac",
   "metadata": {},
   "outputs": [],
   "source": [
    "plt.figure(figsize = [15,20])\n",
    "plt.subplot(3,2,1)\n",
    "sns.boxplot(x='Term_Short Term',y='Monthly_Debt',\n",
    "            palette='pink_r', data=bank_lone_train.sort_values('Monthly_Debt',ascending=False));\n",
    "plt.title('Before dropping outliers',fontsize = 15 , c = 'b')\n",
    "\n",
    "bank_lone_train = bank_lone_train.loc[bank_lone_train['Monthly_Debt'] <= 44500,:]\n",
    "bank_lone_train = bank_lone_train[((bank_lone_train['Monthly_Debt'] <= 36000 )& (bank_lone_train['Term_Short Term']==1))| \n",
    "                                  (bank_lone_train['Term_Short Term']==0)]\n",
    "\n",
    "plt.subplot(3,2,2)\n",
    "sns.boxplot(x='Term_Short Term',y='Monthly_Debt',\n",
    "            palette='pink_r', data=bank_lone_train.sort_values('Monthly_Debt',ascending=False));\n",
    "plt.title('After dropping outliers',fontsize = 15 );"
   ]
  },
  {
   "cell_type": "code",
   "execution_count": null,
   "id": "0013a4ed",
   "metadata": {},
   "outputs": [],
   "source": [
    "# bank_lone_val = bank_lone_val.loc[bank_lone_val['Monthly_Debt'] <= 44500,:]\n",
    "# bank_lone_val = bank_lone_val[((bank_lone_val['Monthly_Debt'] <= 36000 )& \n",
    "#                                    (bank_lone_val['Term_Short Term']==1))| \n",
    "#                                   (bank_lone_val['Term_Short Term']==0)]"
   ]
  },
  {
   "cell_type": "code",
   "execution_count": null,
   "id": "8c60aff9",
   "metadata": {},
   "outputs": [],
   "source": [
    "bank_lone_test = bank_lone_test.loc[bank_lone_test['Monthly_Debt'] <= 44500,:]\n",
    "bank_lone_test = bank_lone_test[((bank_lone_test['Monthly_Debt'] <= 36000 )& \n",
    "                                   (bank_lone_test['Term_Short Term']==1))| \n",
    "                                  (bank_lone_test['Term_Short Term']==0)]"
   ]
  },
  {
   "cell_type": "code",
   "execution_count": null,
   "id": "87cb317d",
   "metadata": {},
   "outputs": [],
   "source": [
    "plt.figure(figsize = [15,20])\n",
    "plt.subplot(3,2,1)\n",
    "sns.boxplot(x='Term_Short Term',y='Current_Credit_Balance',\n",
    "            palette='pink_r', data=bank_lone_train.sort_values('Current_Credit_Balance',ascending=False));\n",
    "plt.title('Before dropping outliers',fontsize = 15 , c = 'r')\n",
    "\n",
    "bank_lone_train = bank_lone_train.loc[bank_lone_train['Current_Credit_Balance'] <= 760000,:]\n",
    "bank_lone_train = bank_lone_train[((bank_lone_train['Current_Credit_Balance'] <= 504000 )& \n",
    "                                   (bank_lone_train['Term_Short Term']==1))| (bank_lone_train['Term_Short Term']==0)]\n",
    "\n",
    "plt.subplot(3,2,2)\n",
    "sns.boxplot(x='Term_Short Term',y='Current_Credit_Balance',\n",
    "            palette='pink_r', data=bank_lone_train.sort_values('Current_Credit_Balance',ascending=False));\n",
    "plt.title('After dropping outliers',fontsize = 15 );"
   ]
  },
  {
   "cell_type": "code",
   "execution_count": null,
   "id": "8bffb414",
   "metadata": {},
   "outputs": [],
   "source": [
    "# bank_lone_val = bank_lone_val.loc[bank_lone_val['Current_Credit_Balance'] <= 760000,:]\n",
    "# bank_lone_val = bank_lone_val[((bank_lone_val['Current_Credit_Balance'] <= 504000 )& \n",
    "#                                    (bank_lone_val['Term_Short Term']==1))| \n",
    "#                                   (bank_lone_val['Term_Short Term']==0)]"
   ]
  },
  {
   "cell_type": "code",
   "execution_count": null,
   "id": "a7f4ae16",
   "metadata": {},
   "outputs": [],
   "source": [
    "bank_lone_test = bank_lone_test.loc[bank_lone_test['Current_Credit_Balance'] <= 760000,:]\n",
    "bank_lone_test = bank_lone_test[((bank_lone_test['Current_Credit_Balance'] <= 504000 )& \n",
    "                                   (bank_lone_test['Term_Short Term']==1))| \n",
    "                                  (bank_lone_test['Term_Short Term']==0)]"
   ]
  },
  {
   "cell_type": "code",
   "execution_count": null,
   "id": "9fa5936b",
   "metadata": {},
   "outputs": [],
   "source": [
    "plt.figure(figsize = [15,20])\n",
    "plt.subplot(3,2,1)\n",
    "sns.boxplot(x='Term_Short Term',y='Maximum_Open_Credit',\n",
    "            palette='pink_r', data=bank_lone_train.sort_values('Maximum_Open_Credit',ascending=False));\n",
    "plt.title('Before dropping outliers',fontsize = 15 , c = 'r')\n",
    "\n",
    "bank_lone_train = bank_lone_train.loc[bank_lone_train['Maximum_Open_Credit'] <= 1400000,:]\n",
    "bank_lone_train = bank_lone_train[((bank_lone_train['Maximum_Open_Credit'] <= 990000 )& \n",
    "                                   (bank_lone_train['Term_Short Term']==1))| (bank_lone_train['Term_Short Term']==0)]\n",
    "\n",
    "plt.subplot(3,2,2)\n",
    "sns.boxplot(x='Term_Short Term',y='Maximum_Open_Credit',\n",
    "            palette='pink_r', data=bank_lone_train.sort_values('Maximum_Open_Credit',ascending=False));\n",
    "plt.title('After dropping outliers',fontsize = 15 );"
   ]
  },
  {
   "cell_type": "code",
   "execution_count": null,
   "id": "77eac20d",
   "metadata": {},
   "outputs": [],
   "source": [
    "# bank_lone_val = bank_lone_val.loc[bank_lone_val['Maximum_Open_Credit'] <= 1400000,:]\n",
    "# bank_lone_val = bank_lone_val[((bank_lone_val['Maximum_Open_Credit'] <= 990000 )& \n",
    "#                                    (bank_lone_val['Term_Short Term']==1))| \n",
    "#                                   (bank_lone_val['Term_Short Term']==0)]\n",
    "\n"
   ]
  },
  {
   "cell_type": "code",
   "execution_count": null,
   "id": "d8b8401b",
   "metadata": {},
   "outputs": [],
   "source": [
    "bank_lone_test = bank_lone_test.loc[bank_lone_test['Maximum_Open_Credit'] <= 1400000,:]\n",
    "bank_lone_test = bank_lone_test[((bank_lone_test['Maximum_Open_Credit'] <= 990000 )& \n",
    "                                   (bank_lone_test['Term_Short Term']==1))| \n",
    "                                  (bank_lone_test['Term_Short Term']==0)]"
   ]
  },
  {
   "cell_type": "markdown",
   "id": "82bda8b6",
   "metadata": {},
   "source": [
    "### plot the correlation after one hot coding"
   ]
  },
  {
   "cell_type": "code",
   "execution_count": null,
   "id": "319bd00a",
   "metadata": {
    "scrolled": false
   },
   "outputs": [],
   "source": [
    "plt.figure(figsize=(8, 12))\n",
    "heatmap = sns.heatmap(bank_lone_train.corr()[\n",
    "    ['Term_Short Term']].sort_values(by='Term_Short Term',ascending=False),\n",
    "                      vmin=-1, vmax=1, annot=True,\n",
    "                      cmap = 'pink_r')\n",
    "plt.title('CORRELATION BETWEEN FEATURES AFTER ONE HOT CODING\\n', loc='center', fontsize=18);"
   ]
  },
  {
   "cell_type": "code",
   "execution_count": null,
   "id": "339ba77e",
   "metadata": {},
   "outputs": [],
   "source": [
    "X_train = bank_lone_train.drop(['Term_Short Term','Loan_ID','Customer_ID',\n",
    "                                'Credit_Score', 'Years_of_Credit_History', \n",
    "                                'Number_of_Credit_Problems', 'Number_of_Open_Accounts',\n",
    "                                'Bankruptcies'], axis = 1)\n",
    "y_train = bank_lone_train['Term_Short Term']\n",
    "X_test = bank_lone_test.drop(['Term_Short Term','Loan_ID','Customer_ID',\n",
    "                                'Credit_Score', 'Years_of_Credit_History', \n",
    "                                'Number_of_Credit_Problems', 'Number_of_Open_Accounts',\n",
    "                                'Bankruptcies'], axis = 1)\n",
    "y_test = bank_lone_test['Term_Short Term']"
   ]
  },
  {
   "cell_type": "code",
   "execution_count": null,
   "id": "7251ab06",
   "metadata": {
    "scrolled": false
   },
   "outputs": [],
   "source": [
    "model = sm.OLS(y_train,X_train)\n",
    "fit = model.fit()\n",
    "fit.summary()"
   ]
  },
  {
   "cell_type": "code",
   "execution_count": null,
   "id": "ed51bf08",
   "metadata": {},
   "outputs": [],
   "source": [
    "# class count\n",
    "class_count_0, class_count_1 = bank_lone_train['Term_Short Term'].value_counts()\n",
    "\n",
    "# Separate class\n",
    "long_term_0 = bank_lone_train[bank_lone_train['Term_Short Term'] == 0]\n",
    "short_term_1 = bank_lone_train[bank_lone_train['Term_Short Term'] == 1]# print the shape of the class\n",
    "print('Long term 0:', long_term_0.shape[0])\n",
    "print('Short term 1:', short_term_1.shape[0])"
   ]
  },
  {
   "cell_type": "markdown",
   "id": "12a36eaf",
   "metadata": {},
   "source": [
    "## Logistic Regression\n",
    "---"
   ]
  },
  {
   "cell_type": "code",
   "execution_count": null,
   "id": "61bdfd2a",
   "metadata": {
    "scrolled": false
   },
   "outputs": [],
   "source": [
    "LR = LogisticRegression(solver='liblinear')\n",
    "lr_balanced = LogisticRegression(class_weight='balanced', solver='liblinear')\n",
    "lr_4x = LogisticRegression(class_weight={0 : 1, 1 : 1}, solver='liblinear')\n",
    "\n",
    "# normal\n",
    "LR.fit(X_train, y_train)\n",
    "print('Normal Logistic Regression Train F1:', f1_score(LR.predict(X_train), y_train))\n",
    "kf = KFold(n_splits=10, random_state=42, shuffle=True)\n",
    "cr_f1 = cross_val_score(LR, X_train, y_train, scoring='f1', cv=kf)\n",
    "print('Normal Logistic Regression Valdition F1:',cr_f1.mean() )\n",
    "\n",
    "\n",
    "# balenced\n",
    "lr_balanced.fit(X_train, y_train)\n",
    "print('\\nBalanced class weights Logistic Regression Train F1:', f1_score(y_train, lr_balanced.predict(X_train)))\n",
    "cr_balnced_f1 = cross_val_score(lr_balanced, X_train, y_train, scoring='f1', cv=kf)\n",
    "print('Balanced class weights Logistic Regression Valdition F1:',cr_balnced_f1.mean())\n",
    "\n",
    "\n",
    "# weighted\n",
    "lr_4x.fit(X_train, y_train)\n",
    "print('\\n2:1 class weights Logistic Regression Train F1:', f1_score(y_train, lr_4x.predict(X_train)))\n",
    "cr_weghts_f1 = cross_val_score(lr_4x, X_train, y_train, scoring='f1', cv=kf)\n",
    "print('2:1 class weights Logistic Regression Valdition F1:',cr_weghts_f1.mean())"
   ]
  },
  {
   "cell_type": "code",
   "execution_count": null,
   "id": "be53d65e",
   "metadata": {},
   "outputs": [],
   "source": [
    "precision_curve, recall_curve, threshold_curve = precision_recall_curve(y_train, LR.predict_proba(X_train)[:,1] )\n",
    "plt.plot(threshold_curve, precision_curve[1:],label='precision', color = '#724949')\n",
    "plt.plot(threshold_curve, recall_curve[1:], label='recall', color = '#DEDCBB')\n",
    "plt.legend(loc='lower left')\n",
    "plt.xlabel('Threshold (above this probability)');\n",
    "plt.title('Precision and Recall Curves');"
   ]
  },
  {
   "cell_type": "code",
   "execution_count": null,
   "id": "fec1c322",
   "metadata": {},
   "outputs": [],
   "source": [
    "y_predict = (LR.predict_proba(X_train)[:, 1] >= 0.65)\n",
    "\n",
    "print(\"Default threshold:\")\n",
    "print(\"Precision: {:6.4f},   Recall: {:6.4f}\".format(precision_score(y_train, y_predict), \n",
    "                                                     recall_score(y_train, y_predict)))"
   ]
  },
  {
   "cell_type": "code",
   "execution_count": null,
   "id": "72fa9744",
   "metadata": {},
   "outputs": [],
   "source": [
    "y_predict = (lr_4x.predict_proba(X_train)[:, 1] >= 0.624)\n",
    "\n",
    "loan_confusion = confusion_matrix(y_train, y_predict)\n",
    "\n",
    "sns.heatmap(loan_confusion , cmap = 'pink_r', annot = True , square = True , fmt = 'd',\n",
    "           xticklabels = ['long term','short term'],\n",
    "           yticklabels = ['long term','short term'])\n",
    "\n",
    "plt.xlabel('prediction')\n",
    "plt.ylabel('actual');"
   ]
  },
  {
   "cell_type": "markdown",
   "id": "22ba15bf",
   "metadata": {},
   "source": [
    "## KNN Model\n",
    "---"
   ]
  },
  {
   "cell_type": "code",
   "execution_count": null,
   "id": "0d68d106",
   "metadata": {},
   "outputs": [],
   "source": [
    "knn = KNeighborsClassifier(n_neighbors = 5)\n",
    "knn.fit(X_train, y_train)\n",
    "knn.score(X_train, y_train)\n",
    "scores = cross_val_score(knn, X_train, y_train, cv=10, scoring='f1')\n",
    "print('f1_score for train: ',f1_score(knn.predict(X_train), y_train))\n",
    "print('f1_score for validation: ',scores.mean())"
   ]
  },
  {
   "cell_type": "markdown",
   "id": "6f6b3551",
   "metadata": {},
   "source": [
    "## Decision Tree Classifier\n",
    "---"
   ]
  },
  {
   "cell_type": "code",
   "execution_count": null,
   "id": "a643e98b",
   "metadata": {
    "scrolled": true
   },
   "outputs": [],
   "source": [
    "# normal\n",
    "Decision_Tree = DecisionTreeClassifier(max_depth = 8)\n",
    "Decision_Tree.fit(X_train, y_train)\n",
    "scores = cross_val_score(Decision_Tree, X_train, y_train, cv=10, scoring='f1')\n",
    "print('Normal Decision Tree Train F1:', f1_score(Decision_Tree.predict(X_train), y_train))\n",
    "print('Normal Decision Tree Valdition F1:',scores.mean())\n",
    "\n",
    "\n",
    "# balenced\n",
    "dt_bal = DecisionTreeClassifier(max_depth = 8, class_weight='balanced')\n",
    "dt_bal.fit(X_train, y_train)\n",
    "scores = cross_val_score(dt_bal, X_train, y_train, cv=10, scoring='f1')\n",
    "print('\\nBalanced class weights Decision Tree Train F1:', f1_score(dt_bal.predict(X_train), y_train))\n",
    "print('Balanced class weights Decision Tree Valdition F1:',scores.mean())\n",
    "\n",
    "\n",
    "# weighted\n",
    "dt_wtd = DecisionTreeClassifier(class_weight= {0 : 1, 1 : 1})\n",
    "dt_wtd.fit(X_train, y_train)\n",
    "print('\\n2:1 class weights Decision Tree Train F1:', f1_score(dt_wtd.predict(X_train), y_train))\n",
    "print('2:1 class weights Decision Tree Valdition F1:',scores.mean())"
   ]
  },
  {
   "cell_type": "code",
   "execution_count": null,
   "id": "f5711092",
   "metadata": {
    "scrolled": true
   },
   "outputs": [],
   "source": [
    "precision_curve, recall_curve, threshold_curve = precision_recall_curve(y_train, Decision_Tree.predict_proba(X_train)[:,1] )\n",
    "plt.plot(threshold_curve, precision_curve[1:],label='precision', color = '#724949')\n",
    "plt.plot(threshold_curve, recall_curve[1:], label='recall', color = '#DEDCBB')\n",
    "plt.legend(loc='lower left')\n",
    "plt.xlabel('Threshold (above this probability)');\n",
    "plt.title('Precision and Recall Curves');"
   ]
  },
  {
   "cell_type": "code",
   "execution_count": null,
   "id": "de1221fa",
   "metadata": {},
   "outputs": [],
   "source": [
    "y_predict = (Decision_Tree.predict_proba(X_train)[:, 1] >= 0.5569)\n",
    "\n",
    "print(\"Default threshold:\")\n",
    "print(\"Precision: {:6.4f},   Recall: {:6.4f}\".format(precision_score(y_train, y_predict), \n",
    "                                                     recall_score(y_train, y_predict)))"
   ]
  },
  {
   "cell_type": "code",
   "execution_count": null,
   "id": "e47f31ef",
   "metadata": {},
   "outputs": [],
   "source": [
    "y_predict = (Decision_Tree.predict_proba(X_train)[:, 1] >= 0.61)\n",
    "\n",
    "loan_confusion = confusion_matrix(y_train, y_predict)\n",
    "\n",
    "sns.heatmap(fraud_confusion , cmap = 'pink_r', annot = True , square = True , fmt = 'd',\n",
    "           xticklabels = ['long term','short term'],\n",
    "           yticklabels = ['long term','short term']);\n",
    "plt.xlabel('prediction')\n",
    "plt.ylabel('actual');"
   ]
  },
  {
   "cell_type": "markdown",
   "id": "e704491f",
   "metadata": {},
   "source": [
    "## Random Forest Classifier\n",
    "---"
   ]
  },
  {
   "cell_type": "code",
   "execution_count": null,
   "id": "48d93e9c",
   "metadata": {
    "scrolled": true
   },
   "outputs": [],
   "source": [
    "# normal\n",
    "Random_Forest = RandomForestClassifier(n_estimators = 10, random_state=1)\n",
    "Random_Forest.fit(X_train, y_train)\n",
    "scores = cross_val_score(Random_Forest, X_train, y_train, cv=10, scoring='f1')\n",
    "print('Normal Random Forest Train F1: ',f1_score(Random_Forest.predict(X_train), y_train))\n",
    "print('Normal Random Forest Valdition F1: ', scores.mean())\n",
    "\n",
    "# balenced\n",
    "rf_bal = RandomForestClassifier(n_estimators = 10, random_state=1, class_weight='balanced')\n",
    "rf_bal.fit(X_train, y_train)\n",
    "scores = cross_val_score(rf_bal, X_train, y_train, cv=10, scoring='f1')\n",
    "print('\\nBalanced class weights Random Forest Train F1: ', f1_score(rf_bal.predict(X_train), y_train))\n",
    "print('Balanced class weights Random Forest Valdition F1: ',scores.mean())\n",
    "\n",
    "\n",
    "# weighted\n",
    "rf_wtd = RandomForestClassifier(n_estimators = 10, random_state=1, class_weight= {0 : 1, 1 : 1})\n",
    "rf_wtd.fit(X_train, y_train)\n",
    "scores = cross_val_score(rf_wtd, X_train, y_train, cv=10, scoring='f1')\n",
    "print('\\n2:1 class weights Random Forest Train F1:', f1_score(rf_wtd.predict(X_train), y_train))\n",
    "print('2:1 class weights Random Forest Valdition F1:',scores.mean())"
   ]
  },
  {
   "cell_type": "code",
   "execution_count": null,
   "id": "428b240e",
   "metadata": {
    "scrolled": true
   },
   "outputs": [],
   "source": [
    "precision_curve, recall_curve, threshold_curve = precision_recall_curve(y_train, Random_Forest.predict_proba(X_train)[:,1] )\n",
    "plt.plot(threshold_curve, precision_curve[1:],label='precision', color = '#724949')\n",
    "plt.plot(threshold_curve, recall_curve[1:], label='recall', color = '#DEDCBB')\n",
    "plt.legend(loc='lower left')\n",
    "plt.xlabel('Threshold (above this probability)');\n",
    "plt.title('Precision and Recall Curves');"
   ]
  },
  {
   "cell_type": "code",
   "execution_count": null,
   "id": "e739cce8",
   "metadata": {},
   "outputs": [],
   "source": [
    "y_predict = (Random_Forest.predict_proba(X_train)[:, 1] >= 0.66)\n",
    "\n",
    "print(\"Default threshold:\")\n",
    "print(\"Precision: {:6.4f},   Recall: {:6.4f}\".format(precision_score(y_train, y_predict), \n",
    "                                                     recall_score(y_train, y_predict)))"
   ]
  },
  {
   "cell_type": "code",
   "execution_count": null,
   "id": "0095e01e",
   "metadata": {},
   "outputs": [],
   "source": [
    "y_predict = (Random_Forest.predict_proba(X_train)[:, 1] >= 0.61)\n",
    "\n",
    "loan_confusion = confusion_matrix(y_train, y_predict)\n",
    "\n",
    "sns.heatmap(fraud_confusion , cmap = 'pink_r', annot = True , square = True , fmt = 'd',\n",
    "           xticklabels = ['long term','short term'],\n",
    "           yticklabels = ['long term','short term']);\n",
    "plt.xlabel('prediction')\n",
    "plt.ylabel('actual');"
   ]
  },
  {
   "cell_type": "markdown",
   "id": "00a3e32d",
   "metadata": {},
   "source": [
    "## Extra Tree\n",
    "---"
   ]
  },
  {
   "cell_type": "code",
   "execution_count": null,
   "id": "a894b1dc",
   "metadata": {},
   "outputs": [],
   "source": [
    "Extra_Tree = ExtraTreesClassifier()\n",
    "Extra_Tree.fit(X_train, y_train)\n",
    "print('The accuracy for training : ',Extra_Tree.score(X_train,y_train))\n",
    "print('f1_score for train: ',f1_score(Extra_Tree.predict(X_train), y_train))\n",
    "\n"
   ]
  },
  {
   "cell_type": "code",
   "execution_count": null,
   "id": "9e96514c",
   "metadata": {},
   "outputs": [],
   "source": [
    "# scores = cross_val_score(Extra_Tree,X = X_train, y = y_train, cv =5, scoring = 'accuracy')\n",
    "# print(scores.mean())"
   ]
  },
  {
   "cell_type": "code",
   "execution_count": null,
   "id": "6dbc2594",
   "metadata": {},
   "outputs": [],
   "source": [
    "y_predict = (Extra_Tree.predict_proba(X_train)[:, 1] >= 0.1)\n",
    "\n",
    "print(\"Default threshold:\")\n",
    "print(\"Precision: {:6.4f},   Recall: {:6.4f}\".format(precision_score(y_train, y_predict), \n",
    "                                                     recall_score(y_train, y_predict)))"
   ]
  },
  {
   "cell_type": "code",
   "execution_count": null,
   "id": "44bcb092",
   "metadata": {},
   "outputs": [],
   "source": [
    "y_predict = (Extra_Tree.predict_proba(X_val)[:, 1] >= 0.62)\n",
    "\n",
    "loan_confusion = confusion_matrix(y_val, y_predict)\n",
    "\n",
    "sns.heatmap(fraud_confusion , cmap = plt.cm.Blues, annot = True , square = True , fmt = 'd',\n",
    "           xticklabels = ['long term','short term'],\n",
    "           yticklabels = ['long term','short term']);\n",
    "plt.xlabel('prediction')\n",
    "plt.ylabel('actual');"
   ]
  },
  {
   "cell_type": "markdown",
   "id": "5a49eecb",
   "metadata": {},
   "source": [
    "## Stacking\n",
    "---"
   ]
  },
  {
   "cell_type": "code",
   "execution_count": null,
   "id": "199ea213",
   "metadata": {},
   "outputs": [],
   "source": [
    "stacked = StackingClassifier(\n",
    "    classifiers=model_vars, meta_classifier=LogisticRegression(), use_probas=False)\n",
    "\n",
    "stacked.fit(X_train, y_train)\n",
    "y_pred = stacked.predict(X_train)\n",
    "accuracy_score(y_train, y_pred)\n",
    "accuracies = cross_val_score(estimator = stacked, X = X_train, y = y_train, cv = 5)\n",
    "\n",
    "print('The accuracy for training : ',stacked.score(X_train,y_train))\n",
    "print('f1_score for train: ',f1_score(stacked.predict(X_train), y_train))\n",
    "print('The accuracy for validation : ',accuracies)"
   ]
  },
  {
   "cell_type": "markdown",
   "id": "3b8dd3fb",
   "metadata": {},
   "source": [
    "## Bagging\n",
    "---"
   ]
  },
  {
   "cell_type": "code",
   "execution_count": null,
   "id": "84ff3048",
   "metadata": {},
   "outputs": [],
   "source": [
    "\n",
    "bag_clf = BaggingClassifier(\n",
    "    DecisionTreeClassifier(), n_estimators=500,\n",
    "    max_samples=100, bootstrap=True, n_jobs=-1)\n",
    "bag_clf.fit(X_train, y_train)\n",
    "y_pred = bag_clf.predict(X_test)\n",
    "\n",
    "# Out-of-Bag Evaluation\n",
    "\n",
    "\n",
    "bag_clf = BaggingClassifier(\n",
    "    DecisionTreeClassifier(), n_estimators=500,\n",
    "    bootstrap=True, n_jobs=-1, oob_score=True)\n",
    "\n",
    "bag_clf.fit(X_train, y_train)\n",
    "bag_clf.oob_score_\n",
    "\n",
    "bag_clf = BaggingClassifier(\n",
    "    DecisionTreeClassifier(splitter=\"random\", max_leaf_nodes=16),\n",
    "    n_estimators=500, max_samples=1.0, bootstrap=True, n_jobs=-1)\n",
    "\n",
    "\n"
   ]
  },
  {
   "cell_type": "markdown",
   "id": "3a72174a",
   "metadata": {},
   "source": [
    "## Boosting\n",
    "---"
   ]
  },
  {
   "cell_type": "markdown",
   "id": "f692a31d",
   "metadata": {},
   "source": [
    "* ### AdaBoost"
   ]
  },
  {
   "cell_type": "code",
   "execution_count": null,
   "id": "0dc88850",
   "metadata": {},
   "outputs": [],
   "source": [
    "\n",
    "ada_clf = AdaBoostClassifier(\n",
    "    DecisionTreeClassifier(max_depth=1), n_estimators=200,\n",
    "    algorithm=\"SAMME.R\", learning_rate=0.5)\n",
    "ada_clf.fit(X_train, y_train)\n",
    "\n"
   ]
  },
  {
   "cell_type": "markdown",
   "id": "131fb7f8",
   "metadata": {},
   "source": [
    "* ### Gradient Boosting"
   ]
  },
  {
   "cell_type": "code",
   "execution_count": null,
   "id": "ebb29d46",
   "metadata": {},
   "outputs": [],
   "source": [
    "\n",
    "tree_reg1 = DecisionTreeRegressor(max_depth=2)\n",
    "tree_reg1.fit(X, y)\n",
    "y2 = y - tree_reg1.predict(X)\n",
    "tree_reg2 = DecisionTreeRegressor(max_depth=2)\n",
    "tree_reg2.fit(X, y2)\n",
    "\n",
    "y3 = y2 - tree_reg2.predict(X)\n",
    "tree_reg3 = DecisionTreeRegressor(max_depth=2)\n",
    "\n",
    "y_pred = sum(tree.predict(X_new) for tree in (tree_reg1, tree_reg2, tree_reg3))\n",
    "\n",
    "\n",
    "# هنا القراديانت اللي فوق مادري ايش هو\n",
    "gbrt = GradientBoostingRegressor(max_depth=2, n_estimators=3, learning_rate=1.0)\n",
    "gbrt.fit(X, y)\n",
    "\n"
   ]
  },
  {
   "cell_type": "markdown",
   "id": "07461b16",
   "metadata": {},
   "source": [
    "* ### XGBoost"
   ]
  },
  {
   "cell_type": "code",
   "execution_count": null,
   "id": "00c31894",
   "metadata": {},
   "outputs": [],
   "source": [
    "\n",
    "\n",
    "xgb_reg = xgboost.XGBRegressor()\n",
    "xgb_reg.fit(X_train, y_train)\n",
    "y_pred = xgb_reg.predict(X_val)\n",
    "\n",
    "xgb_reg.fit(X_train, y_train,\n",
    "            eval_set=[(X_val, y_val)], early_stopping_rounds=2)\n",
    "y_pred = xgb_reg.predict(X_val)\n"
   ]
  },
  {
   "cell_type": "markdown",
   "id": "6519c757",
   "metadata": {},
   "source": [
    "## Voting Classifer (HARD)\n",
    "---"
   ]
  },
  {
   "cell_type": "code",
   "execution_count": null,
   "id": "f5bf7241",
   "metadata": {},
   "outputs": [],
   "source": [
    "# normal\n",
    "models = [('lr', LR ), ('rf', Random_Forest )]\n",
    "VC = VotingClassifier(estimators= models, voting='hard', n_jobs=-1)\n",
    "VC.fit(X_train, y_train)\n",
    "scores = cross_val_score(VC, X_train, y_train, cv=10, scoring='f1')\n",
    "print('Normal Voting Classifier Train F1: ',f1_score(VC.predict(X_train), y_train))\n",
    "print('Normal Voting Classifier Valdition F1: ', scores.mean())\n",
    "\n",
    "# balenced\n",
    "models = [('lr', lr_balanced ), ('rf', rf_bal )]\n",
    "vc_bal = VotingClassifier(estimators= models, voting='hard', n_jobs=-1)\n",
    "vc_bal.fit(X_train, y_train)\n",
    "scores = cross_val_score(vc_bal, X_train, y_train, cv=10, scoring='f1')\n",
    "print('\\nBalanced class weights Voting Classifier Train F1: ', f1_score(vc_bal.predict(X_train), y_train))\n",
    "print('Balanced class weights Voting Classifier Valdition F1: ',scores.mean())\n",
    "\n",
    "\n",
    "# weighted\n",
    "models = [('lr', lr_4x ), ('rf', rf_wtd )]\n",
    "vc_wtd = VotingClassifier(estimators= models, voting='hard', n_jobs=-1)\n",
    "vc_wtd.fit(X_train, y_train)\n",
    "scores = cross_val_score(vc_wtd, X_train, y_train, cv=10, scoring='f1')\n",
    "print('\\n2:1 class weights Random Forest Train F1:', f1_score(vc_wtd.predict(X_train), y_train))\n",
    "print('2:1 class weights Random Forest Valdition F1:',scores.mean())"
   ]
  },
  {
   "cell_type": "code",
   "execution_count": null,
   "id": "830bfc20",
   "metadata": {},
   "outputs": [],
   "source": [
    "precision_curve, recall_curve, threshold_curve = precision_recall_curve(y_train, VC.predict_proba(X_train)[:,1] )\n",
    "plt.plot(threshold_curve, precision_curve[1:],label='precision', color = '#724949')\n",
    "plt.plot(threshold_curve, recall_curve[1:], label='recall', color = '#DEDCBB')\n",
    "plt.legend(loc='lower left')\n",
    "plt.xlabel('Threshold (above this probability)');\n",
    "plt.title('Precision and Recall Curves');"
   ]
  },
  {
   "cell_type": "code",
   "execution_count": null,
   "id": "0f87f2a8",
   "metadata": {},
   "outputs": [],
   "source": [
    "y_predict = (VC.predict_proba(X_train)[:, 1] >= 0.61)\n",
    "\n",
    "loan_confusion = confusion_matrix(y_train, y_predict)\n",
    "\n",
    "sns.heatmap(fraud_confusion , cmap = 'pink_r', annot = True , square = True , fmt = 'd',\n",
    "           xticklabels = ['long term','short term'],\n",
    "           yticklabels = ['long term','short term']);\n",
    "plt.xlabel('prediction')\n",
    "plt.ylabel('actual');"
   ]
  }
 ],
 "metadata": {
  "kernelspec": {
   "display_name": "Python 3",
   "language": "python",
   "name": "python3"
  },
  "language_info": {
   "codemirror_mode": {
    "name": "ipython",
    "version": 3
   },
   "file_extension": ".py",
   "mimetype": "text/x-python",
   "name": "python",
   "nbconvert_exporter": "python",
   "pygments_lexer": "ipython3",
   "version": "3.8.8"
  }
 },
 "nbformat": 4,
 "nbformat_minor": 5
}
